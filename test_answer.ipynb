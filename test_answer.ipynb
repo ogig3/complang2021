{
 "cells": [
  {
   "cell_type": "markdown",
   "metadata": {
    "gaku": "140164",
    "name": "KUWATA Takeshi"
   },
   "source": [
    "# コンピュータの言語2020: 遠隔試験\n",
    " * 学籍番号: \n",
    " * 名前: "
   ]
  },
  {
   "cell_type": "markdown",
   "metadata": {},
   "source": [
    "## 注意\n",
    "* １時間以内に関大LMSに提出してください\n",
    "* 問題に応じてプログラム内の xxx の部分を変更してください\n",
    "* 各セルのプログラムは必ず実行してください\n",
    "* セルを増やしたり減らしたりしないようにしてください\n",
    "* 特に伝えたいことがある場合には，以下の伝言セルに書いておいてください\n"
   ]
  },
  {
   "cell_type": "markdown",
   "metadata": {},
   "source": [
    "伝言："
   ]
  },
  {
   "cell_type": "markdown",
   "metadata": {
    "chap": 1,
    "problem": 3
   },
   "source": [
    "## 問題 1"
   ]
  },
  {
   "cell_type": "markdown",
   "metadata": {},
   "source": [
    "20 通りのことを表現するためには，最低何 bit あればよいですか？\n",
    "以下のプログラムを完成させて実行してください．\n",
    "\n"
   ]
  },
  {
   "cell_type": "code",
   "execution_count": 1,
   "metadata": {},
   "outputs": [
    {
     "name": "stdout",
     "output_type": "stream",
     "text": [
      "5 bit で表現できるのは 32通りであるので，\n",
      "最低 5 bit あればよい\n"
     ]
    }
   ],
   "source": [
    "b = 5     # bit\n",
    "n = 2**5     # b bit で表現できること\n",
    "print(f'{b} bit で表現できるのは {n}通りであるので，')\n",
    "print(f'最低 {b} bit あればよい')\n",
    "\n"
   ]
  },
  {
   "cell_type": "markdown",
   "metadata": {
    "chap": 1,
    "problem": 4
   },
   "source": [
    "## 問題 2"
   ]
  },
  {
   "cell_type": "markdown",
   "metadata": {},
   "source": [
    "$(45)_{10}$ を2進数に変換してください．\n",
    "以下のプログラムの xxxx に適切な値を入力して実行してください．\n",
    "\n"
   ]
  },
  {
   "cell_type": "code",
   "execution_count": null,
   "metadata": {},
   "outputs": [],
   "source": [
    "print('10進数の45を2進数に変換すると 101101 である．')\n",
    "\n",
    "\n"
   ]
  },
  {
   "cell_type": "markdown",
   "metadata": {
    "chap": 2,
    "problem": 2
   },
   "source": [
    "## 問題 3"
   ]
  },
  {
   "cell_type": "markdown",
   "metadata": {},
   "source": [
    "10進数の 14.171875 を 16 進数に変換してください．\n",
    "\n"
   ]
  },
  {
   "cell_type": "code",
   "execution_count": 3,
   "metadata": {},
   "outputs": [
    {
     "data": {
      "text/plain": [
       "2.75"
      ]
     },
     "execution_count": 3,
     "metadata": {},
     "output_type": "execute_result"
    }
   ],
   "source": [
    "0.171875*16"
   ]
  },
  {
   "cell_type": "code",
   "execution_count": 4,
   "metadata": {},
   "outputs": [
    {
     "data": {
      "text/plain": [
       "12.0"
      ]
     },
     "execution_count": 4,
     "metadata": {},
     "output_type": "execute_result"
    }
   ],
   "source": [
    "0.75*16"
   ]
  },
  {
   "cell_type": "code",
   "execution_count": null,
   "metadata": {},
   "outputs": [],
   "source": [
    "print(f'14.171875 は16進数で E.2C になります．')\n",
    "\n"
   ]
  },
  {
   "cell_type": "markdown",
   "metadata": {
    "chap": 2,
    "problem": 5
   },
   "source": [
    "## 問題 4"
   ]
  },
  {
   "cell_type": "markdown",
   "metadata": {},
   "source": [
    "実数 a を $a =f \\times r^e$ と表す浮動少数点表示をしたとき，f は何といいますか？適切な変数を {xxx} に入れてください．\n",
    "\n"
   ]
  },
  {
   "cell_type": "code",
   "execution_count": null,
   "metadata": {},
   "outputs": [],
   "source": [
    "\n",
    "a = '仮数'\n",
    "b = '基数'\n",
    "c = '指数'\n",
    "\n",
    "print(f'f は {a} といいます')\n",
    "\n"
   ]
  },
  {
   "cell_type": "markdown",
   "metadata": {
    "chap": 3,
    "problem": 1
   },
   "source": [
    "## 問題 5"
   ]
  },
  {
   "cell_type": "markdown",
   "metadata": {},
   "source": [
    "100円のノートを5冊, 150円の消しゴム3つを2割引で購入したとき，消費税を10%として，支払い金額を計算するプログラムを完成させてください．\n",
    "\n"
   ]
  },
  {
   "cell_type": "code",
   "execution_count": 2,
   "metadata": {},
   "outputs": [
    {
     "name": "stdout",
     "output_type": "stream",
     "text": [
      "支払い金額は 836.0000000000001 円です\n"
     ]
    }
   ],
   "source": [
    "x = 5\n",
    "y = 3\n",
    "pay = (x*100+y*150)*0.8*1.1\n",
    "print(f'支払い金額は {pay} 円です')\n",
    "\n"
   ]
  },
  {
   "cell_type": "markdown",
   "metadata": {
    "chap": 3,
    "problem": 4
   },
   "source": [
    "## 問題 6"
   ]
  },
  {
   "cell_type": "markdown",
   "metadata": {},
   "source": [
    "8本足のタコと10本足のイカがいます．タコが124匹，イカは340匹いた場合，足の数を出力するようにプログラムを完成させてください．\n",
    "\n"
   ]
  },
  {
   "cell_type": "code",
   "execution_count": 7,
   "metadata": {},
   "outputs": [
    {
     "name": "stdout",
     "output_type": "stream",
     "text": [
      "足は 4392 本です．\n"
     ]
    }
   ],
   "source": [
    "tako = 124\n",
    "ika  = 340\n",
    "\n",
    "asi   = 8*tako+10*ika\n",
    "\n",
    "print(f'足は {asi} 本です．')\n",
    "\n"
   ]
  },
  {
   "cell_type": "markdown",
   "metadata": {
    "chap": 4,
    "problem": 1
   },
   "source": [
    "## 問題 7"
   ]
  },
  {
   "cell_type": "markdown",
   "metadata": {},
   "source": [
    "変数a に 3, 変数b に 5 が代入されているとき，それらの値を入れ替えるプログラムを完成させてください．\n",
    "\n"
   ]
  },
  {
   "cell_type": "code",
   "execution_count": 8,
   "metadata": {},
   "outputs": [
    {
     "name": "stdout",
     "output_type": "stream",
     "text": [
      "a=5, b=3\n"
     ]
    }
   ],
   "source": [
    "a = 3\n",
    "b = 5\n",
    "\n",
    "c = a\n",
    "a = b\n",
    "b = c\n",
    "\n",
    "print(f'a={a}, b={b}')\n",
    "\n"
   ]
  },
  {
   "cell_type": "markdown",
   "metadata": {
    "chap": 4,
    "problem": 4
   },
   "source": [
    "## 問題 8"
   ]
  },
  {
   "cell_type": "markdown",
   "metadata": {},
   "source": [
    "1から100までの数の偶数の和を求めるプログラムを完成させてください．\n",
    "\n"
   ]
  },
  {
   "cell_type": "code",
   "execution_count": 1,
   "metadata": {},
   "outputs": [
    {
     "name": "stdout",
     "output_type": "stream",
     "text": [
      "求める和は 2550 です．\n"
     ]
    }
   ],
   "source": [
    "\n",
    "sum_val = 0\n",
    "\n",
    "for i in range(2,101,2):\n",
    "    sum_val = sum_val+i\n",
    "\n",
    "print(f'求める和は {sum_val} です．' )\n",
    "\n"
   ]
  },
  {
   "cell_type": "markdown",
   "metadata": {
    "chap": 5,
    "problem": 2
   },
   "source": [
    "## 問題 9"
   ]
  },
  {
   "cell_type": "markdown",
   "metadata": {},
   "source": [
    "以下のアンケートの難しさを5段階評価をしてもらった結果が，以下のように lisa というリストの変数に入っています．この問題の難しさに対する平均値を求めるプログラムを完成させてください．\n",
    "\n"
   ]
  },
  {
   "cell_type": "code",
   "execution_count": 11,
   "metadata": {},
   "outputs": [
    {
     "name": "stdout",
     "output_type": "stream",
     "text": [
      "難しさの平均は3.06です\n"
     ]
    }
   ],
   "source": [
    "lisa = [2, 2, 4, 4, 2, 3, 4, 2, 4, 4, 2, 4, 2, 4, 5, 5, 3, 5, 1, 2, 3, 3, 4, 1, 5, 1, 2, 4, 2, 2, 1, 3, 2, 3, 4, 1, 4, 1, 1, 3, 3, 3, 2, 5, 2, 5, 3, 5, 4, 2, 1, 4, 2, 2, 4, 2, 5, 4, 4, 4, 2, 4, 3, 2, 5, 1, 5, 4, 3, 2, 1, 3, 2, 5, 2, 2, 3, 1, 5, 4, 4, 5, 3, 5, 2, 5, 4, 4, 1, 2, 3, 4, 4, 5, 3, 4, 4, 1, 3, 1, 5, 2, 2, 5, 3, 5, 3, 3, 1, 2, 4, 3, 4, 2, 4, 1, 1, 2, 4, 1, 4, 5, 2, 4, 4, 3, 1, 3, 1, 3, 4, 4, 3, 5, 1, 2, 4, 3, 3, 1, 2, 2, 5, 1, 2, 5, 5, 1, 3, 5, 3, 2, 3, 4, 3, 3, 3, 5, 4, 2, 5, 1, 2, 4, 5, 1, 2, 2, 1, 5, 3, 4, 4, 5, 3, 4, 1, 5, 4, 1, 2, 3, 4, 5, 3, 5, 1, 4, 2, 2, 5, 1, 4, 5, 2, 2, 3, 1, 5, 5]\n",
    "\n",
    "sum_all = 0\n",
    "for i in lisa:\n",
    "    sum_all = sum_all + i\n",
    "\n",
    "heikin = sum_all/len(lisa)\n",
    "print(f'難しさの平均は{heikin}です')\n",
    "\n"
   ]
  },
  {
   "cell_type": "markdown",
   "metadata": {
    "chap": 5,
    "problem": 3
   },
   "source": [
    "## 問題 10"
   ]
  },
  {
   "cell_type": "markdown",
   "metadata": {},
   "source": [
    "クジのデータが200個あります．このクジの当たる確率を求めるプログラムを完成させてください．（ヒント：リストのメソッド count を使ってください）\n",
    "\n"
   ]
  },
  {
   "cell_type": "code",
   "execution_count": 13,
   "metadata": {},
   "outputs": [
    {
     "name": "stdout",
     "output_type": "stream",
     "text": [
      "このクジの当たる確率は0.365です．\n"
     ]
    }
   ],
   "source": [
    "kuji = ['はずれ', 'あたり', 'はずれ', 'はずれ', 'はずれ', 'はずれ', 'はずれ', 'はずれ', 'はずれ', 'あたり', 'はずれ', 'あたり', 'はずれ', 'あたり', 'はずれ', 'あたり', 'はずれ', 'あたり', 'はずれ', 'あたり', 'あたり', 'はずれ', 'はずれ', 'あたり', 'はずれ', 'はずれ', 'はずれ', 'あたり', 'はずれ', 'はずれ', 'あたり', 'はずれ', 'あたり', 'はずれ', 'はずれ', 'はずれ', 'はずれ', 'はずれ', 'あたり', 'あたり', 'はずれ', 'はずれ', 'あたり', 'あたり', 'はずれ', 'あたり', 'はずれ', 'あたり', 'はずれ', 'はずれ', 'あたり', 'はずれ', 'はずれ', 'はずれ', 'はずれ', 'はずれ', 'はずれ', 'あたり', 'あたり', 'はずれ', 'はずれ', 'あたり', 'あたり', 'あたり', 'はずれ', 'はずれ', 'あたり', 'あたり', 'あたり', 'あたり', 'はずれ', 'あたり', 'はずれ', 'はずれ', 'はずれ', 'あたり', 'はずれ', 'はずれ', 'はずれ', 'はずれ', 'あたり', 'はずれ', 'はずれ', 'あたり', 'あたり', 'はずれ', 'あたり', 'はずれ', 'あたり', 'あたり', 'はずれ', 'はずれ', 'あたり', 'はずれ', 'はずれ', 'はずれ', 'あたり', 'はずれ', 'あたり', 'はずれ', 'あたり', 'はずれ', 'はずれ', 'あたり', 'あたり', 'はずれ', 'はずれ', 'あたり', 'はずれ', 'はずれ', 'あたり', 'はずれ', 'はずれ', 'はずれ', 'あたり', 'あたり', 'あたり', 'あたり', 'はずれ', 'はずれ', 'はずれ', 'はずれ', 'はずれ', 'はずれ', 'あたり', 'あたり', 'あたり', 'はずれ', 'はずれ', 'あたり', 'はずれ', 'はずれ', 'はずれ', 'あたり', 'あたり', 'あたり', 'はずれ', 'はずれ', 'はずれ', 'はずれ', 'あたり', 'はずれ', 'はずれ', 'あたり', 'はずれ', 'はずれ', 'はずれ', 'はずれ', 'はずれ', 'はずれ', 'あたり', 'はずれ', 'あたり', 'はずれ', 'はずれ', 'はずれ', 'はずれ', 'あたり', 'はずれ', 'はずれ', 'はずれ', 'あたり', 'あたり', 'あたり', 'はずれ', 'あたり', 'はずれ', 'はずれ', 'はずれ', 'はずれ', 'あたり', 'はずれ', 'はずれ', 'あたり', 'あたり', 'はずれ', 'あたり', 'はずれ', 'あたり', 'あたり', 'はずれ', 'はずれ', 'はずれ', 'はずれ', 'はずれ', 'あたり', 'はずれ', 'はずれ', 'はずれ', 'はずれ', 'はずれ', 'はずれ', 'はずれ', 'はずれ', 'あたり', 'あたり', 'はずれ', 'はずれ', 'はずれ', 'はずれ']\n",
    "\n",
    "\n",
    "p = kuji.count('あたり')/len(kuji)\n",
    "\n",
    "print(f'このクジの当たる確率は{p}です．')\n",
    "\n"
   ]
  },
  {
   "cell_type": "markdown",
   "metadata": {
    "chap": 6,
    "problem": 1
   },
   "source": [
    "## 問題 11"
   ]
  },
  {
   "cell_type": "markdown",
   "metadata": {},
   "source": [
    "200から500 までの和を求めるプログラムを完成させてください．\n",
    "\n"
   ]
  },
  {
   "cell_type": "code",
   "execution_count": 14,
   "metadata": {
    "tags": []
   },
   "outputs": [
    {
     "name": "stdout",
     "output_type": "stream",
     "text": [
      "求める和は105350です\n"
     ]
    }
   ],
   "source": [
    "sum_val = 0\n",
    "i = 200\n",
    "\n",
    "while i<=500:\n",
    "    sum_val = sum_val+i\n",
    "    i = i+1\n",
    "\n",
    "print(f'求める和は{sum_val}です')\n",
    "\n"
   ]
  },
  {
   "cell_type": "markdown",
   "metadata": {
    "chap": 6,
    "problem": 4
   },
   "source": [
    "## 問題 12"
   ]
  },
  {
   "cell_type": "markdown",
   "metadata": {},
   "source": [
    "1つの数字を引数として受け取り，その数を 5 で割った商とあまりを返す関数 warugo を定義し，10から20までの数を５で割った商と余りを返すプログラムを完成させてください．\n",
    "\n"
   ]
  },
  {
   "cell_type": "code",
   "execution_count": 15,
   "metadata": {},
   "outputs": [
    {
     "name": "stdout",
     "output_type": "stream",
     "text": [
      "10を5で割った商は2,あまりは0です\n",
      "11を5で割った商は2,あまりは1です\n",
      "12を5で割った商は2,あまりは2です\n",
      "13を5で割った商は2,あまりは3です\n",
      "14を5で割った商は2,あまりは4です\n",
      "15を5で割った商は3,あまりは0です\n",
      "16を5で割った商は3,あまりは1です\n",
      "17を5で割った商は3,あまりは2です\n",
      "18を5で割った商は3,あまりは3です\n",
      "19を5で割った商は3,あまりは4です\n",
      "20を5で割った商は4,あまりは0です\n"
     ]
    }
   ],
   "source": [
    "\n",
    "def warugo(x):\n",
    "    shou = x//5\n",
    "    amari = x%5\n",
    "    return shou, amari\n",
    "\n",
    "for i in range(10,21):\n",
    "    a, b = warugo(i)\n",
    "    print(f'{i}を5で割った商は{a},あまりは{b}です')\n",
    "\n"
   ]
  },
  {
   "cell_type": "markdown",
   "metadata": {
    "chap": 7,
    "problem": 3
   },
   "source": [
    "## 問題 13"
   ]
  },
  {
   "cell_type": "markdown",
   "metadata": {},
   "source": [
    "以下の文字コードに関する説明が正しくなるように，A の変数に aからi のいずれかの変数を代入し，プログラムを完成させてください．\n",
    "\n"
   ]
  },
  {
   "cell_type": "code",
   "execution_count": 18,
   "metadata": {},
   "outputs": [
    {
     "name": "stdout",
     "output_type": "stream",
     "text": [
      "\n",
      "世界各国の文字を統一的に扱うためにIT業界が\n",
      "中心となって制定した文字コードは Unicode である．\n"
     ]
    }
   ],
   "source": [
    "\n",
    "a = 'EBCDIC'\n",
    "b = 'Unicode'\n",
    "c = 'JAVA'\n",
    "d = 'JISコード'\n",
    "e = 'ASCII'\n",
    "f = 'Shift JIS'\n",
    "g = 'UTF-8'\n",
    "h = 'KUTC'\n",
    "\n",
    "A = b\n",
    "\n",
    "sentence = f'''\n",
    "世界各国の文字を統一的に扱うためにIT業界が\n",
    "中心となって制定した文字コードは {A} である．'''\n",
    "\n",
    "print(sentence)\n",
    "\n",
    "\n"
   ]
  },
  {
   "cell_type": "markdown",
   "metadata": {
    "chap": 7,
    "problem": 4
   },
   "source": [
    "## 問題 14"
   ]
  },
  {
   "cell_type": "markdown",
   "metadata": {},
   "source": [
    "以下の文字コードに関する説明が正しくなるように，変数 num に正しい数字を代入し，プログラムを完成させてください．\n",
    "\n"
   ]
  },
  {
   "cell_type": "code",
   "execution_count": 16,
   "metadata": {},
   "outputs": [
    {
     "name": "stdout",
     "output_type": "stream",
     "text": [
      "UTF-8 では日本語のひらがなは 3 バイトで表現されている．\n"
     ]
    }
   ],
   "source": [
    "\n",
    "num = 3 \n",
    "\n",
    "sentence = f'''UTF-8 では日本語のひらがなは {num} バイトで表現されている．'''\n",
    "\n",
    "print(sentence)\n",
    "\n",
    "\n"
   ]
  },
  {
   "cell_type": "markdown",
   "metadata": {
    "chap": 8,
    "problem": 1
   },
   "source": [
    "## 問題 15"
   ]
  },
  {
   "cell_type": "markdown",
   "metadata": {},
   "source": [
    "math モジュールにはさまざまな数学関数が用意されています．その中に絶対値を求める関数 fabs があります．この関数を使う以下のプログラムを完成させてください．\n",
    "\n"
   ]
  },
  {
   "cell_type": "code",
   "execution_count": 20,
   "metadata": {},
   "outputs": [
    {
     "name": "stdout",
     "output_type": "stream",
     "text": [
      "3.0\n"
     ]
    }
   ],
   "source": [
    "import math as m\n",
    "\n",
    "x = -3\n",
    "y = m.fabs(x)\n",
    "\n",
    "print(f'{y}')\n",
    "\n"
   ]
  },
  {
   "cell_type": "markdown",
   "metadata": {
    "chap": 8,
    "problem": 9
   },
   "source": [
    "## 問題 16"
   ]
  },
  {
   "cell_type": "markdown",
   "metadata": {},
   "source": [
    "以下の文が正しくなるようにプログラムを完成させてください．\n",
    "\n"
   ]
  },
  {
   "cell_type": "code",
   "execution_count": 21,
   "metadata": {},
   "outputs": [
    {
     "name": "stdout",
     "output_type": "stream",
     "text": [
      "ディスプレイの色の表現には加色法の RGB がよく使われる．その青，赤，黄のそれぞれの色を1byte で表現すると，全部で16777216種類の色を表現できる．\n"
     ]
    }
   ],
   "source": [
    "\n",
    "a = (2**8)**3\n",
    "\n",
    "sentence = f'ディスプレイの色の表現には加色法の RGB がよく使われる．\\\n",
    "その青，赤，黄のそれぞれの色を1byte で表現すると，全部で{a}種類の色を表現できる．'\n",
    "\n",
    "print(sentence)\n",
    "\n"
   ]
  },
  {
   "cell_type": "markdown",
   "metadata": {
    "chap": 9,
    "problem": 1
   },
   "source": [
    "## 問題 17"
   ]
  },
  {
   "cell_type": "markdown",
   "metadata": {},
   "source": [
    "リスト data の35番から80番の中から最小値とその場所を探すプログラムを完成させてください．\n",
    "\n"
   ]
  },
  {
   "cell_type": "code",
   "execution_count": 22,
   "metadata": {},
   "outputs": [
    {
     "name": "stdout",
     "output_type": "stream",
     "text": [
      "最小値は102\n",
      "最小値のある位置は56\n"
     ]
    }
   ],
   "source": [
    "data = [377, 192, 430, 206, 147, 238, 125, 213, 195, 386, 248, 447, 257, 228, 167, 416, 131, 363, 135, 181, 279, 499, 276, 351, 409, 419, 399, 282, 333, 112, 476, 275, 489, 362, 441, 267, 251, 331, 300, 139, 469, 259, 271, 464, 196, 336, 490, 138, 401, 461, 136, 410, 344, 108, 161, 191, 102, 114, 368, 104, 465, 208, 284, 429, 385, 232, 348, 258, 384, 422, 403, 246, 360, 425, 372, 435, 318, 290, 133, 412, 370, 433, 421, 308, 100, 241, 307, 488, 151, 111, 292, 452]\n",
    "\n",
    "a = 35\n",
    "b = 80\n",
    "\n",
    "min_val = data[a]\n",
    "min_pos = a\n",
    "\n",
    "for i in range(a+1,b+1):\n",
    "    if data[i]<min_val:\n",
    "        min_val = data[i]\n",
    "        min_pos = i\n",
    "\n",
    "print( f\"最小値は{min_val}\")\n",
    "print( f\"最小値のある位置は{min_pos}\")\n",
    "\n"
   ]
  },
  {
   "cell_type": "markdown",
   "metadata": {
    "chap": 10,
    "problem": 1
   },
   "source": [
    "## 問題 18"
   ]
  },
  {
   "cell_type": "markdown",
   "metadata": {},
   "source": [
    "以下の，リスト data の中から 207 を見つけ，その場所を出力するプログラムを完成させてください．\n",
    "\n"
   ]
  },
  {
   "cell_type": "code",
   "execution_count": 23,
   "metadata": {},
   "outputs": [
    {
     "name": "stdout",
     "output_type": "stream",
     "text": [
      "探索成功！場所は 25\n"
     ]
    }
   ],
   "source": [
    "\n",
    "data = [238, 473, 255, 186, 303, 285, 467, 118, 229, 472, 398, 183, 360, 171, 357, 405, 135, 107, 444, 327, 266, 481, 431, 494, 487, 207, 366, 218, 389, 141, 153, 344, 191, 298, 365, 307, 314, 311, 133, 337]\n",
    "\n",
    "x = 207\n",
    "size = len(data)\n",
    "\n",
    "for i in range(size):\n",
    "    if x==data[i]:\n",
    "        print(\"探索成功！場所は\", i)\n",
    "        break\n",
    "\n"
   ]
  },
  {
   "cell_type": "markdown",
   "metadata": {
    "chap": 10,
    "problem": 2
   },
   "source": [
    "## 問題 19"
   ]
  },
  {
   "cell_type": "markdown",
   "metadata": {},
   "source": [
    "以下の二分探索のプログラムを完成させてください．\n",
    "\n"
   ]
  },
  {
   "cell_type": "code",
   "execution_count": 25,
   "metadata": {},
   "outputs": [
    {
     "name": "stdout",
     "output_type": "stream",
     "text": [
      "320 のある場所は 13\n",
      "321 のある場所は -1\n"
     ]
    }
   ],
   "source": [
    "def search_binary( data, value):\n",
    "    size = len(data)\n",
    "\n",
    "    L = 0\n",
    "    H = size-1\n",
    "\n",
    "    while L<=H:\n",
    "        M=(L+H)//2\n",
    "\n",
    "        if value<data[M]:\n",
    "            H=M-1\n",
    "        elif value>data[M]:\n",
    "            L=M+1\n",
    "        else:\n",
    "            return M\n",
    "    \n",
    "    return -1\n",
    "\n",
    "data = [475, 368, 455, 308, 268, 363, 251, 381, 400, 311, 167, 326, 107, 339, 482, 254, 186, 320, 449, 347, 297, 286, 146, 174, 247, 404, 432]\n",
    "data.sort()\n",
    "\n",
    "place1 = search_binary(data, 320)\n",
    "place2 = search_binary(data, 321)\n",
    "\n",
    "print(f\"320 のある場所は {place1}\")\n",
    "print(f\"321 のある場所は {place2}\")\n",
    "\n"
   ]
  },
  {
   "cell_type": "markdown",
   "metadata": {
    "chap": 11,
    "problem": 1
   },
   "source": [
    "## 問題 20"
   ]
  },
  {
   "cell_type": "markdown",
   "metadata": {},
   "source": [
    "以下の説明が正しくなるように a〜e の変数を選択して{xxx} に入れ，プログラムを完成させてください．\n",
    "\n"
   ]
  },
  {
   "cell_type": "code",
   "execution_count": 26,
   "metadata": {},
   "outputs": [
    {
     "name": "stdout",
     "output_type": "stream",
     "text": [
      "検索エンジンの処理の中でインターネットのあらゆるWeb ページの情報を集めてくる処理のことをクローラ といいます．\n"
     ]
    }
   ],
   "source": [
    "\n",
    "a = 'クローラ'\n",
    "b = 'インデックス'\n",
    "c = 'クエリープロセス'\n",
    "d = 'SEO'\n",
    "e = 'モバイルゲドン'\n",
    "\n",
    "sentence = f'検索エンジンの処理の中でインターネットのあらゆるWeb ページ\\\n",
    "の情報を集めてくる処理のことを{a} といいます．'\n",
    "\n",
    "print(sentence)\n",
    "\n"
   ]
  },
  {
   "cell_type": "markdown",
   "metadata": {
    "chap": 12,
    "problem": 2
   },
   "source": [
    "## 問題 21"
   ]
  },
  {
   "cell_type": "markdown",
   "metadata": {},
   "source": [
    "以下の説明が正しくなるように a〜f の変数を選択して{xxx} に入れ，プログラムを完成させてください．\n",
    "\n"
   ]
  },
  {
   "cell_type": "code",
   "execution_count": 27,
   "metadata": {},
   "outputs": [
    {
     "name": "stdout",
     "output_type": "stream",
     "text": [
      "プログラム言語には高水準言語と低水準言語があるが，人間が理解しやすい言語は高水準言語 の方である．全てのプログラムはコンピュータが実行するための機械語に翻訳される必要がある．翻訳には言語プロセッサが必要となるが，CやJava を変換する言語プロセッサはコンパイラと呼ばれる．\n"
     ]
    }
   ],
   "source": [
    "\n",
    "a = '高水準言語'\n",
    "b = '低水準言語'\n",
    "c = '機械語'\n",
    "d = 'アセンブリ'\n",
    "e = 'アセンブラ'\n",
    "f = 'コンパイラ'\n",
    "\n",
    "sentence = f'プログラム言語には高水準言語と低水準言語があるが，\\\n",
    "人間が理解しやすい言語は{a} の方である．全てのプログラムは\\\n",
    "コンピュータが実行するための{c}に翻訳される必要がある．\\\n",
    "翻訳には言語プロセッサが必要となるが，CやJava を変換する\\\n",
    "言語プロセッサは{f}と呼ばれる．'\n",
    "\n",
    "print(sentence)\n",
    "\n"
   ]
  },
  {
   "cell_type": "markdown",
   "metadata": {
    "chap": 12,
    "problem": 4
   },
   "source": [
    "## 問題 22"
   ]
  },
  {
   "cell_type": "markdown",
   "metadata": {},
   "source": [
    "以下の説明が正しくなるように a〜f の変数を選択して{xxx} に入れ，プログラムを完成させてください．\n",
    "\n"
   ]
  },
  {
   "cell_type": "code",
   "execution_count": 28,
   "metadata": {},
   "outputs": [
    {
     "name": "stdout",
     "output_type": "stream",
     "text": [
      " コンパイラ言語 ではプログラム全体を機械語に変換してから実行する．一般的にインタプリタ言語 に比べて実行速度は速い．最近人気のある インタプリタ言語として Python と JavaScript がある． 後者の言語は HTML ファイル内に直接記述して利用することができる．\n"
     ]
    }
   ],
   "source": [
    "\n",
    "a = 'インタプリタ言語'\n",
    "b = 'コンパイラ言語'\n",
    "c = '速い'\n",
    "d = '遅い'\n",
    "e = 'Java'\n",
    "f = 'JavaScript'\n",
    "g = 'COBOL'\n",
    "\n",
    "sentence = f' {b} ではプログラム全体を機械語に変換してから実行する．\\\n",
    "一般的に{a} に比べて実行速度は{c}．最近人気のある \\\n",
    "インタプリタ言語として Python と {f} がある． 後者の言語は \\\n",
    "HTML ファイル内に直接記述して利用することができる．'\n",
    "\n",
    "print(sentence)\n",
    "\n"
   ]
  }
 ],
 "metadata": {
  "gaku": "140164",
  "kernelspec": {
   "display_name": "Python 3",
   "language": "python",
   "name": "python3"
  },
  "language_info": {
   "codemirror_mode": {
    "name": "ipython",
    "version": 3
   },
   "file_extension": ".py",
   "mimetype": "text/x-python",
   "name": "python",
   "nbconvert_exporter": "python",
   "pygments_lexer": "ipython3",
   "version": "3.7.4"
  },
  "name": "KUWATA Takeshi"
 },
 "nbformat": 4,
 "nbformat_minor": 4
}
